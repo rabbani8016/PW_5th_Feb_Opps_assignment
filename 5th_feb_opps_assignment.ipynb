{
 "cells": [
  {
   "cell_type": "markdown",
   "id": "aeda342d-b983-41fa-b395-8372ff050dfa",
   "metadata": {},
   "source": [
    "##### Q1. Explain Class and Object with respect to Object-Oriented Programming. Give a suitable example."
   ]
  },
  {
   "cell_type": "code",
   "execution_count": 1,
   "id": "3f195b18-a537-4eb6-b89e-b24570f6a96b",
   "metadata": {},
   "outputs": [],
   "source": [
    "# Object-Oriented Programming (OOP), a class is a blueprint or a template that defines the characteristics and behaviors of objects"
   ]
  },
  {
   "cell_type": "code",
   "execution_count": 3,
   "id": "1ed60c38-ee52-4d28-b7a6-054799b73a62",
   "metadata": {},
   "outputs": [],
   "source": [
    "class student:\n",
    "    \n",
    "    def __init__(self,name, age, year):\n",
    "        self.name = name\n",
    "        self.age = age\n",
    "        self.year = year\n",
    "        \n",
    "    def return_student(self):\n",
    "        print(self.name , self.age, self.year)\n",
    "    "
   ]
  },
  {
   "cell_type": "code",
   "execution_count": 5,
   "id": "9fdf57f1-0136-4325-9da3-d1f5dbff4c6f",
   "metadata": {},
   "outputs": [
    {
     "name": "stdout",
     "output_type": "stream",
     "text": [
      "mahesh 23 2000\n"
     ]
    }
   ],
   "source": [
    "mahesh = student(\"mahesh\", 23, 2000)\n",
    "mahesh.return_student()"
   ]
  },
  {
   "cell_type": "code",
   "execution_count": 6,
   "id": "851d33af-9f49-43db-bc5b-e6f5731736b7",
   "metadata": {},
   "outputs": [],
   "source": [
    "rakesh = student(\"rakesh\", 45, 2030)"
   ]
  },
  {
   "cell_type": "code",
   "execution_count": 7,
   "id": "ed002309-f315-42e0-9345-49e79f1302ba",
   "metadata": {},
   "outputs": [
    {
     "name": "stdout",
     "output_type": "stream",
     "text": [
      "rakesh 45 2030\n"
     ]
    }
   ],
   "source": [
    "rakesh.return_student()"
   ]
  },
  {
   "cell_type": "markdown",
   "id": "e18e36e3-6675-4a99-bad6-1414ace21814",
   "metadata": {},
   "source": [
    "##### Q2. Name the four pillars of OOPs."
   ]
  },
  {
   "cell_type": "markdown",
   "id": "5ad89000-4756-44a3-b999-a12fabcb32da",
   "metadata": {},
   "source": [
    "The four pillars of Object-Oriented Programming (OOP) are:\n",
    "\n",
    "1. Encapsulation:\n",
    "Encapsulation refers to the bundling of data (attributes) and methods (functions) that operate on the data into a single unit called a class.\n",
    "It involves restricting access to some of the object's components and only exposing what is necessary, which enhances security and helps in controlling the object's behavior.\n",
    "\n",
    "2. Inheritance:\n",
    "Inheritance is a mechanism that allows a new class (subclass or derived class) to inherit properties and behaviors from an existing class (base class or superclass).\n",
    "It promotes code reuse, as the subclass can reuse the code of the superclass and extend or override its functionalities.\n",
    "\n",
    "3. Abstraction:\n",
    "Abstraction involves simplifying complex systems by modeling classes based on the essential properties and behaviors relevant to the problem.\n",
    "It allows the programmer to focus on the high-level design without worrying about the low-level details, promoting clarity and reducing complexity.\n",
    "\n",
    "4. Polymorphism:\n",
    "Polymorphism allows objects of different classes to be treated as objects of a common base class.\n",
    "It enables a single interface to represent different types of objects, and it can take various forms, such as method overloading (multiple methods with the same name but different parameters) and method overriding (providing a specific implementation in a subclass)."
   ]
  },
  {
   "cell_type": "markdown",
   "id": "f7d5acc9-8e88-4c8c-9148-5a0451b566c6",
   "metadata": {},
   "source": [
    "##### Q3. Explain why the __init__() function is used. Give a suitable example."
   ]
  },
  {
   "cell_type": "markdown",
   "id": "8b8ef7a2-614e-4eec-8912-fbbf247b060e",
   "metadata": {},
   "source": [
    "\n",
    "The __init__ function in Python is a special method, also known as a constructor. It is automatically called when an object is created from a class and is used to initialize the object's attributes. The primary purpose of __init__ is to set the initial state of the object by assigning values to its attributes."
   ]
  },
  {
   "cell_type": "code",
   "execution_count": 10,
   "id": "b06aaaec-e174-4973-9f4e-514ec034355c",
   "metadata": {},
   "outputs": [],
   "source": [
    "class student1:\n",
    "    \n",
    "    def __init__(self,name, age, year):\n",
    "        self.name = name\n",
    "        self.age = age\n",
    "        self.year = year\n",
    "        \n",
    "    def return_student(self):\n",
    "        print(self.name , self.age, self.year)\n",
    "    "
   ]
  },
  {
   "cell_type": "code",
   "execution_count": 11,
   "id": "23701a8b-defc-4596-a781-349586936df8",
   "metadata": {},
   "outputs": [
    {
     "name": "stdout",
     "output_type": "stream",
     "text": [
      "mahesh 23 2000\n"
     ]
    }
   ],
   "source": [
    "mahesh = student1(\"mahesh\", 23, 2000)\n",
    "mahesh.return_student()"
   ]
  },
  {
   "cell_type": "markdown",
   "id": "524402d0-e445-4698-918e-396d7fb00c9e",
   "metadata": {},
   "source": [
    "##### Q4. Why self is used in OOPs?"
   ]
  },
  {
   "cell_type": "markdown",
   "id": "5ce5506b-a352-4b00-aa33-74941dc3ca30",
   "metadata": {},
   "source": [
    "In Object-Oriented Programming (OOP), self is a convention used to represent the instance of the class within the class's methods. It is the first parameter of instance methods in Python."
   ]
  },
  {
   "cell_type": "markdown",
   "id": "35fea3cc-7fa1-47d3-b028-7e236c7f1d20",
   "metadata": {},
   "source": [
    "for Instance Reference, method invocation, instance-specific attributes\n"
   ]
  },
  {
   "cell_type": "markdown",
   "id": "0743ef6b-fd3b-40d1-9272-2f3ffc49875d",
   "metadata": {},
   "source": [
    "##### Q5. What is inheritance? Give an example for each type of inheritance."
   ]
  },
  {
   "cell_type": "markdown",
   "id": "6c27a408-98bf-44ca-8f91-2c1f3bd49c15",
   "metadata": {},
   "source": [
    "Inheritance is one of the four fundamental pillars of Object-Oriented Programming (OOP). It allows a new class (called the subclass or derived class) to inherit attributes and behaviors from an existing class (called the superclass or base class). This enables code reuse and the creation of a hierarchical structure in which a subclass can extend or override the functionalities of the superclass."
   ]
  },
  {
   "cell_type": "code",
   "execution_count": 12,
   "id": "e2b282bb-7d86-4176-b3d1-ffc4d52fe88b",
   "metadata": {},
   "outputs": [
    {
     "name": "stdout",
     "output_type": "stream",
     "text": [
      "speak bengali\n"
     ]
    }
   ],
   "source": [
    "# single Inheritance \n",
    "\n",
    "class language:\n",
    "    \n",
    "    def speak(self):\n",
    "        print('speak bengali')\n",
    "        \n",
    "class student(language):\n",
    "    \n",
    "    def name(self):\n",
    "        print('student language')\n",
    "        \n",
    "\n",
    "ram = student()\n",
    "ram.speak()\n"
   ]
  },
  {
   "cell_type": "code",
   "execution_count": 13,
   "id": "fe5173e3-a1c6-4b41-b4a7-23bcc120b8d1",
   "metadata": {},
   "outputs": [
    {
     "name": "stdout",
     "output_type": "stream",
     "text": [
      "student language\n"
     ]
    }
   ],
   "source": [
    "ram.name()"
   ]
  },
  {
   "cell_type": "code",
   "execution_count": 14,
   "id": "9582b139-57f0-4e7b-98c8-e2f6c7e0f865",
   "metadata": {},
   "outputs": [],
   "source": [
    "# multiple Inheritance\n",
    "\n",
    "class Flying:\n",
    "    def fly(self):\n",
    "        print(\"Can fly\")\n",
    "\n",
    "class Swimming:\n",
    "    def swim(self):\n",
    "        print(\"Can swim\")\n",
    "\n",
    "class FlyingFish(Flying, Swimming):\n",
    "    pass\n"
   ]
  },
  {
   "cell_type": "code",
   "execution_count": 15,
   "id": "c72ad087-3b74-4ded-a541-7534cc987d67",
   "metadata": {},
   "outputs": [],
   "source": [
    "ram = FlyingFish()"
   ]
  },
  {
   "cell_type": "code",
   "execution_count": 16,
   "id": "5ae2eb65-aa76-4c48-9e51-8034479db84b",
   "metadata": {},
   "outputs": [
    {
     "name": "stdout",
     "output_type": "stream",
     "text": [
      "Can fly\n"
     ]
    }
   ],
   "source": [
    "ram.fly()"
   ]
  },
  {
   "cell_type": "code",
   "execution_count": 17,
   "id": "57884362-59db-4c1d-a9f7-1a6a2b24b1e3",
   "metadata": {},
   "outputs": [
    {
     "name": "stdout",
     "output_type": "stream",
     "text": [
      "Can swim\n"
     ]
    }
   ],
   "source": [
    "ram.swim()"
   ]
  },
  {
   "cell_type": "code",
   "execution_count": 20,
   "id": "c4a9f745-1048-4eef-9544-eedf70a2f2e6",
   "metadata": {},
   "outputs": [
    {
     "name": "stdout",
     "output_type": "stream",
     "text": [
      "Car drives\n"
     ]
    }
   ],
   "source": [
    "# multilavel Inheritance\n",
    "\n",
    "class Vehicle:\n",
    "    def start(self):\n",
    "        print(\"Vehicle starts\")\n",
    "\n",
    "class Car(Vehicle):\n",
    "    def drive(self):\n",
    "        print(\"Car drives\")\n",
    "\n",
    "class SportsCar(Car):\n",
    "    def race(self):\n",
    "        print(\"Sports car races\")\n",
    "\n",
    "        \n",
    "ram = SportsCar()\n",
    "ram.drive()"
   ]
  },
  {
   "cell_type": "code",
   "execution_count": 21,
   "id": "1c4eeab6-9e3a-4fc7-9304-46246a36a2ef",
   "metadata": {},
   "outputs": [
    {
     "name": "stdout",
     "output_type": "stream",
     "text": [
      "Sports car races\n"
     ]
    }
   ],
   "source": [
    "ram.race()"
   ]
  },
  {
   "cell_type": "code",
   "execution_count": 22,
   "id": "a5628fa6-954d-4388-a5c9-4492c0bb22d5",
   "metadata": {},
   "outputs": [
    {
     "name": "stdout",
     "output_type": "stream",
     "text": [
      "Vehicle starts\n"
     ]
    }
   ],
   "source": [
    "ram.start()"
   ]
  },
  {
   "cell_type": "code",
   "execution_count": null,
   "id": "72863e2c-4700-4008-a559-5316c8110d94",
   "metadata": {},
   "outputs": [],
   "source": []
  }
 ],
 "metadata": {
  "kernelspec": {
   "display_name": "Python 3 (ipykernel)",
   "language": "python",
   "name": "python3"
  },
  "language_info": {
   "codemirror_mode": {
    "name": "ipython",
    "version": 3
   },
   "file_extension": ".py",
   "mimetype": "text/x-python",
   "name": "python",
   "nbconvert_exporter": "python",
   "pygments_lexer": "ipython3",
   "version": "3.10.8"
  }
 },
 "nbformat": 4,
 "nbformat_minor": 5
}
